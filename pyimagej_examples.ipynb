{
 "cells": [
  {
   "cell_type": "code",
   "execution_count": 2,
   "metadata": {},
   "outputs": [],
   "source": [
    "import imagej\n",
    "import os\n",
    "import scyjava as sj\n",
    "from scyjava import jimport\n",
    "import random\n",
    "import sys\n",
    "sj.config.add_options('-Xmx12g')\n",
    "\n",
    "os.environ[\"JAVA_HOME\"] = \"/Users/nelsschimek/mambaforge/envs/i2k-2022-pyimagej/\""
   ]
  },
  {
   "cell_type": "code",
   "execution_count": 3,
   "metadata": {},
   "outputs": [
    {
     "name": "stdout",
     "output_type": "stream",
     "text": [
      "ImageJ version: 2.9.0/1.53t\n"
     ]
    }
   ],
   "source": [
    "# initialize ImageJ\n",
    "ij = imagej.init('/Applications/Fiji.app/')\n",
    "print(f\"ImageJ version: {ij.getVersion()}\")"
   ]
  },
  {
   "cell_type": "code",
   "execution_count": 20,
   "metadata": {},
   "outputs": [],
   "source": [
    "Runtime = jimport('java.lang.Runtime')"
   ]
  },
  {
   "cell_type": "code",
   "execution_count": 21,
   "metadata": {},
   "outputs": [
    {
     "name": "stdout",
     "output_type": "stream",
     "text": [
      "10923  MB available to java\n"
     ]
    }
   ],
   "source": [
    "print(Runtime.getRuntime().maxMemory() // (2**20), \" MB available to java\")"
   ]
  },
  {
   "cell_type": "code",
   "execution_count": 5,
   "metadata": {},
   "outputs": [],
   "source": [
    "image_path = \"/Users/nelsschimek/Documents/nancelab/diff_classifier/notebooks/development/MPT_Data/TIFs/P10F_NT_10DIV_40nm_slice_2_midbrain_vid_2.tif\"\n",
    "image = ij.io().open(image_path)"
   ]
  },
  {
   "cell_type": "code",
   "execution_count": 22,
   "metadata": {},
   "outputs": [],
   "source": [
    "# def dump_info(image):\n",
    "#     \"\"\"A handy function to print details of an image object.\"\"\"\n",
    "#     name = image.name if hasattr(image, 'name') else None # xarray\n",
    "#     if name is None and hasattr(image, 'getName'): name = image.getName() # Dataset\n",
    "#     if name is None and hasattr(image, 'getTitle'): name = image.getTitle() # ImagePlus\n",
    "#     print(f\" name: {name or 'N/A'}\")\n",
    "#     print(f\" type: {type(image)}\")\n",
    "#     print(f\"dtype: {image.dtype if hasattr(image, 'dtype') else 'N/A'}\")\n",
    "#     print(f\"shape: {image.shape}\")\n",
    "#     print(f\" dims: {image.dims if hasattr(image, 'dims') else 'N/A'}\")\n",
    "\n",
    "# if not 'image' in locals(): print(\"I cannot find any variable called embryo. Did you write `embryo = ...` above?\")\n",
    "# elif str(type(image)) != \"<java class 'net.imagej.DefaultDataset'>\": print(\"The embryo variable does not contain an ImageJ2 Dataset. Did you use the `ij.io().open` function?\")\n",
    "# else: dump_info(image)"
   ]
  },
  {
   "cell_type": "code",
   "execution_count": 4,
   "metadata": {},
   "outputs": [],
   "source": [
    "Model = sj.jimport('fiji.plugin.trackmate.Model')\n",
    "Settings = sj.jimport('fiji.plugin.trackmate.Settings')\n",
    "TrackMate = sj.jimport('fiji.plugin.trackmate.TrackMate')\n",
    "FeatureFilter = sj.jimport('fiji.plugin.trackmate.features.FeatureFilter')\n",
    "LAPUtils =  sj.jimport('fiji.plugin.trackmate.tracking.jaqaman.LAPUtils')\n",
    "SelectionModel = sj.jimport('fiji.plugin.trackmate.SelectionModel')\n",
    "Logger = sj.jimport('fiji.plugin.trackmate.Logger')\n",
    "\n",
    "DisplaySettingsIO = sj.jimport('fiji.plugin.trackmate.gui.displaysettings.DisplaySettingsIO')\n",
    "HyperStackDisplayer = sj.jimport('fiji.plugin.trackmate.visualization.hyperstack.HyperStackDisplayer')"
   ]
  },
  {
   "cell_type": "code",
   "execution_count": 5,
   "metadata": {},
   "outputs": [],
   "source": [
    "LogDetectorFactory = sj.jimport('fiji.plugin.trackmate.detection.LogDetectorFactory')"
   ]
  },
  {
   "cell_type": "code",
   "execution_count": 6,
   "metadata": {},
   "outputs": [],
   "source": [
    "SparseLAPTrackerFactory = sj.jimport('fiji.plugin.trackmate.tracking.jaqaman.SparseLAPTrackerFactory')"
   ]
  },
  {
   "cell_type": "code",
   "execution_count": 7,
   "metadata": {},
   "outputs": [],
   "source": [
    "model = Model()"
   ]
  },
  {
   "cell_type": "code",
   "execution_count": 8,
   "metadata": {},
   "outputs": [],
   "source": [
    "model.setLogger(Logger.IJ_LOGGER)"
   ]
  },
  {
   "cell_type": "code",
   "execution_count": 34,
   "metadata": {},
   "outputs": [],
   "source": [
    "\n",
    "im = ij.io().open('https://fiji.sc/samples/FakeTracks.tif')\n"
   ]
  },
  {
   "cell_type": "code",
   "execution_count": null,
   "metadata": {},
   "outputs": [],
   "source": [
    "imp = ij.py.to_imageplus(im)"
   ]
  },
  {
   "cell_type": "code",
   "execution_count": 11,
   "metadata": {},
   "outputs": [],
   "source": [
    "settings = Settings()"
   ]
  },
  {
   "cell_type": "code",
   "execution_count": 12,
   "metadata": {},
   "outputs": [],
   "source": [
    "settings.detectorFactory = LogDetectorFactory()\n",
    "settings.detectorSettings = {\n",
    "    'DO_SUBPIXEL_LOCALIZATION' : True,\n",
    "    'RADIUS' : 2.5,\n",
    "    'TARGET_CHANNEL' : ij.py.to_java(1),\n",
    "    'THRESHOLD' : 0.,\n",
    "    'DO_MEDIAN_FILTERING' : False,\n",
    "}  \n",
    "filter1 = FeatureFilter('QUALITY', 30, True)\n",
    "settings.addSpotFilter(filter1)\n"
   ]
  },
  {
   "cell_type": "code",
   "execution_count": 13,
   "metadata": {},
   "outputs": [],
   "source": [
    "# Configure tracker\n",
    "settings.trackerFactory = SparseLAPTrackerFactory()\n",
    "settings.trackerSettings = LAPUtils.getDefaultSegmentSettingsMap()\n",
    "settings.trackerSettings['LINKING_MAX_DISTANCE'] = 10.0\n",
    "settings.trackerSettings['GAP_CLOSING_MAX_DISTANCE'] = 10.0\n",
    "settings.trackerSettings['MAX_FRAME_GAP'] = ij.py.to_java(3)"
   ]
  },
  {
   "cell_type": "code",
   "execution_count": 14,
   "metadata": {},
   "outputs": [],
   "source": [
    "trackmate = TrackMate(model, settings)"
   ]
  },
  {
   "cell_type": "code",
   "execution_count": 16,
   "metadata": {},
   "outputs": [
    {
     "data": {
      "text/plain": [
       "mappingproxy({'PLUGIN_NAME_STR': <java field 'PLUGIN_NAME_STR' of 'fiji.plugin.trackmate.TrackMate'>,\n",
       "              'PLUGIN_NAME_VERSION': <java field 'PLUGIN_NAME_VERSION' of 'fiji.plugin.trackmate.TrackMate'>,\n",
       "              'cancel': <java method 'cancel' of 'fiji.plugin.trackmate.TrackMate'>,\n",
       "              'checkInput': <java method 'checkInput' of 'fiji.plugin.trackmate.TrackMate'>,\n",
       "              'computeEdgeFeatures': <java method 'computeEdgeFeatures' of 'fiji.plugin.trackmate.TrackMate'>,\n",
       "              'computeSpotFeatures': <java method 'computeSpotFeatures' of 'fiji.plugin.trackmate.TrackMate'>,\n",
       "              'computeTrackFeatures': <java method 'computeTrackFeatures' of 'fiji.plugin.trackmate.TrackMate'>,\n",
       "              'execDetection': <java method 'execDetection' of 'fiji.plugin.trackmate.TrackMate'>,\n",
       "              'execInitialSpotFiltering': <java method 'execInitialSpotFiltering' of 'fiji.plugin.trackmate.TrackMate'>,\n",
       "              'execSpotFiltering': <java method 'execSpotFiltering' of 'fiji.plugin.trackmate.TrackMate'>,\n",
       "              'execTrackFiltering': <java method 'execTrackFiltering' of 'fiji.plugin.trackmate.TrackMate'>,\n",
       "              'execTracking': <java method 'execTracking' of 'fiji.plugin.trackmate.TrackMate'>,\n",
       "              'getCancelReason': <java method 'getCancelReason' of 'fiji.plugin.trackmate.TrackMate'>,\n",
       "              'getErrorMessage': <java method 'getErrorMessage' of 'fiji.plugin.trackmate.TrackMate'>,\n",
       "              'getModel': <java method 'getModel' of 'fiji.plugin.trackmate.TrackMate'>,\n",
       "              'getName': <java method 'getName' of 'fiji.plugin.trackmate.TrackMate'>,\n",
       "              'getNumThreads': <java method 'getNumThreads' of 'fiji.plugin.trackmate.TrackMate'>,\n",
       "              'getProcessingTime': <java method 'getProcessingTime' of 'fiji.plugin.trackmate.TrackMate'>,\n",
       "              'getSettings': <java method 'getSettings' of 'fiji.plugin.trackmate.TrackMate'>,\n",
       "              'isCanceled': <java method 'isCanceled' of 'fiji.plugin.trackmate.TrackMate'>,\n",
       "              'process': <java method 'process' of 'fiji.plugin.trackmate.TrackMate'>,\n",
       "              'setName': <java method 'setName' of 'fiji.plugin.trackmate.TrackMate'>,\n",
       "              'setNumThreads': <java method 'setNumThreads' of 'fiji.plugin.trackmate.TrackMate'>,\n",
       "              'toString': <java method 'toString' of 'fiji.plugin.trackmate.TrackMate'>,\n",
       "              '__module__': 'fiji.plugin.trackmate',\n",
       "              '__doc__': None})"
      ]
     },
     "execution_count": 16,
     "metadata": {},
     "output_type": "execute_result"
    }
   ],
   "source": [
    "TrackMate.__dict__"
   ]
  },
  {
   "cell_type": "code",
   "execution_count": 39,
   "metadata": {},
   "outputs": [
    {
     "name": "stdout",
     "output_type": "stream",
     "text": [
      "Starting detection process using 8 threads.\n",
      "\n"
     ]
    },
    {
     "name": "stderr",
     "output_type": "stream",
     "text": [
      "[java.lang.Enum.toString] Starting detection process using 8 threads.\n",
      "[java.lang.Enum.toString] Starting detection process using 8 threads.\n",
      "[java.lang.Enum.toString] Starting detection process using 8 threads.\n",
      "[java.lang.Enum.toString] \n",
      "[java.lang.Enum.toString] \n",
      "[java.lang.Enum.toString] \n"
     ]
    },
    {
     "ename": "java.lang.NullPointerException",
     "evalue": "java.lang.NullPointerException",
     "output_type": "error",
     "traceback": [
      "\u001b[0;31m---------------------------------------------------------------------------\u001b[0m",
      "\u001b[0;31mException\u001b[0m                                 Traceback (most recent call last)",
      "File \u001b[0;32mTrackMate.java:356\u001b[0m, in \u001b[0;36mfiji.plugin.trackmate.TrackMate.execDetection\u001b[0;34m()\u001b[0m\n",
      "File \u001b[0;32mTMUtils.java:143\u001b[0m, in \u001b[0;36mfiji.plugin.trackmate.util.TMUtils.rawWraps\u001b[0;34m()\u001b[0m\n",
      "File \u001b[0;32mImagePlusAdapter.java:92\u001b[0m, in \u001b[0;36mnet.imglib2.img.ImagePlusAdapter.wrapImgPlus\u001b[0;34m()\u001b[0m\n",
      "File \u001b[0;32mImagePlusAdapter.java:75\u001b[0m, in \u001b[0;36mnet.imglib2.img.ImagePlusAdapter.wrap\u001b[0;34m()\u001b[0m\n",
      "File \u001b[0;32mImagePlusAdapter.java:98\u001b[0m, in \u001b[0;36mnet.imglib2.img.ImagePlusAdapter.wrapLocal\u001b[0;34m()\u001b[0m\n",
      "\u001b[0;31mException\u001b[0m: Java Exception",
      "\nThe above exception was the direct cause of the following exception:\n",
      "\u001b[0;31mjava.lang.NullPointerException\u001b[0m            Traceback (most recent call last)",
      "Cell \u001b[0;32mIn[39], line 1\u001b[0m\n\u001b[0;32m----> 1\u001b[0m trackmate\u001b[39m.\u001b[39;49mexecDetection()\n",
      "\u001b[0;31mjava.lang.NullPointerException\u001b[0m: java.lang.NullPointerException"
     ]
    }
   ],
   "source": [
    "trackmate.execDetection()"
   ]
  },
  {
   "cell_type": "code",
   "execution_count": 152,
   "metadata": {},
   "outputs": [],
   "source": [
    "ok = trackmate.checkInput()\n",
    "if not ok:\n",
    "    sys.exit(str(trackmate.getErrorMessage()))"
   ]
  },
  {
   "cell_type": "code",
   "execution_count": 5,
   "metadata": {},
   "outputs": [
    {
     "data": {
      "text/plain": [
       "'270.4136734008789 of 10923 MB (2%)'"
      ]
     },
     "execution_count": 5,
     "metadata": {},
     "output_type": "execute_result"
    }
   ],
   "source": [
    "from scyjava import jimport\n",
    "Runtime = jimport('java.lang.Runtime')\n",
    "def java_mem():\n",
    "    rt = Runtime.getRuntime()\n",
    "    mem_max = rt.maxMemory()\n",
    "    mem_used = rt.totalMemory() - rt.freeMemory()\n",
    "    return '{} of {} MB ({}%)'.format(int(mem_used)/2**20, int(mem_max/2**20), int(100*mem_used/mem_max))\n",
    "\n",
    "java_mem()"
   ]
  },
  {
   "cell_type": "code",
   "execution_count": 151,
   "metadata": {},
   "outputs": [
    {
     "name": "stdout",
     "output_type": "stream",
     "text": [
      "Starting detection process using 8 threads.\n",
      "\n"
     ]
    },
    {
     "name": "stderr",
     "output_type": "stream",
     "text": [
      "[java.lang.Enum.toString] Starting detection process using 8 threads.\n",
      "[java.lang.Enum.toString] \n"
     ]
    },
    {
     "ename": "java.lang.OutOfMemoryError",
     "evalue": "java.lang.OutOfMemoryError: GC overhead limit exceeded",
     "output_type": "error",
     "traceback": [
      "\u001b[0;31m---------------------------------------------------------------------------\u001b[0m",
      "\u001b[0;31mException\u001b[0m                                 Traceback (most recent call last)",
      "File \u001b[0;32mCellRandomAccess.java:142\u001b[0m, in \u001b[0;36mnet.imglib2.img.cell.CellRandomAccess.getCell\u001b[0;34m()\u001b[0m\n",
      "File \u001b[0;32mAbstractLongListImg.java:274\u001b[0m, in \u001b[0;36mnet.imglib2.img.list.AbstractLongListImg$LongListRandomAccess.get\u001b[0;34m()\u001b[0m\n",
      "File \u001b[0;32mLazyCellImg.java:104\u001b[0m, in \u001b[0;36mnet.imglib2.img.cell.LazyCellImg$LazyCells.get\u001b[0;34m()\u001b[0m\n",
      "File \u001b[0;32mnet.imglib2.cache.img.CachedCellImg$$Lambda$141/1134505351.java:-1\u001b[0m, in \u001b[0;36mnet.imglib2.cache.img.CachedCellImg$$Lambda$141/1134505351.get\u001b[0;34m()\u001b[0m\n",
      "File \u001b[0;32mCacheAsUncheckedCacheAdapter.java:74\u001b[0m, in \u001b[0;36mnet.imglib2.cache.util.CacheAsUncheckedCacheAdapter.get\u001b[0;34m()\u001b[0m\n",
      "File \u001b[0;32mLoaderCacheAsCacheAdapter.java:76\u001b[0m, in \u001b[0;36mnet.imglib2.cache.util.LoaderCacheAsCacheAdapter.get\u001b[0;34m()\u001b[0m\n",
      "File \u001b[0;32mLoaderRemoverCacheAsLoaderCacheAdapter.java:78\u001b[0m, in \u001b[0;36mnet.imglib2.cache.util.LoaderRemoverCacheAsLoaderCacheAdapter.get\u001b[0;34m()\u001b[0m\n",
      "File \u001b[0;32mSoftRefLoaderRemoverCache.java:166\u001b[0m, in \u001b[0;36mnet.imglib2.cache.ref.SoftRefLoaderRemoverCache.get\u001b[0;34m()\u001b[0m\n",
      "File \u001b[0;32mIoSync.java:253\u001b[0m, in \u001b[0;36mnet.imglib2.cache.IoSync.get\u001b[0;34m()\u001b[0m\n",
      "File \u001b[0;32mDiskCellCache.java:81\u001b[0m, in \u001b[0;36mnet.imglib2.cache.img.DiskCellCache.get\u001b[0;34m()\u001b[0m\n",
      "File \u001b[0;32mDiskCellCache.java:142\u001b[0m, in \u001b[0;36mnet.imglib2.cache.img.DiskCellCache.get\u001b[0;34m()\u001b[0m\n",
      "File \u001b[0;32mLoadedCellCacheLoader.java:84\u001b[0m, in \u001b[0;36mnet.imglib2.cache.img.LoadedCellCacheLoader.get\u001b[0;34m()\u001b[0m\n",
      "File \u001b[0;32mLoadedCellCacheLoader.java:124\u001b[0m, in \u001b[0;36mnet.imglib2.cache.img.LoadedCellCacheLoader.get\u001b[0;34m()\u001b[0m\n",
      "File \u001b[0;32mSCIFIOCellImgFactory.java:200\u001b[0m, in \u001b[0;36mio.scif.img.cell.SCIFIOCellImgFactory$SCIFIOCellLoader.load\u001b[0;34m()\u001b[0m\n",
      "File \u001b[0;32mAbstractArrayLoader.java:187\u001b[0m, in \u001b[0;36mio.scif.img.cell.loaders.AbstractArrayLoader.loadArray\u001b[0;34m()\u001b[0m\n",
      "File \u001b[0;32mAbstractArrayLoader.java:209\u001b[0m, in \u001b[0;36mio.scif.img.cell.loaders.AbstractArrayLoader.read\u001b[0;34m()\u001b[0m\n",
      "File \u001b[0;32mAbstractArrayLoader.java:227\u001b[0m, in \u001b[0;36mio.scif.img.cell.loaders.AbstractArrayLoader.read\u001b[0;34m()\u001b[0m\n",
      "File \u001b[0;32mAbstractArrayLoader.java:240\u001b[0m, in \u001b[0;36mio.scif.img.cell.loaders.AbstractArrayLoader.read\u001b[0;34m()\u001b[0m\n",
      "File \u001b[0;32mAbstractReaderFilter.java:201\u001b[0m, in \u001b[0;36mio.scif.filters.AbstractReaderFilter.openPlane\u001b[0;34m()\u001b[0m\n",
      "File \u001b[0;32mAbstractReaderFilter.java:233\u001b[0m, in \u001b[0;36mio.scif.filters.AbstractReaderFilter.openPlane\u001b[0;34m()\u001b[0m\n",
      "File \u001b[0;32mPlaneSeparator.java:198\u001b[0m, in \u001b[0;36mio.scif.filters.PlaneSeparator.openPlane\u001b[0;34m()\u001b[0m\n",
      "File \u001b[0;32mAbstractReaderFilter.java:392\u001b[0m, in \u001b[0;36mio.scif.filters.AbstractReaderFilter.createPlane\u001b[0;34m()\u001b[0m\n",
      "File \u001b[0;32mAbstractReaderFilter.java:392\u001b[0m, in \u001b[0;36mio.scif.filters.AbstractReaderFilter.createPlane\u001b[0;34m()\u001b[0m\n",
      "File \u001b[0;32mByteArrayReader.java:43\u001b[0m, in \u001b[0;36mio.scif.ByteArrayReader.createPlane\u001b[0;34m()\u001b[0m\n",
      "File \u001b[0;32mByteArrayReader.java:64\u001b[0m, in \u001b[0;36mio.scif.ByteArrayReader.createPlane\u001b[0;34m()\u001b[0m\n",
      "File \u001b[0;32mByteArrayPlane.java:56\u001b[0m, in \u001b[0;36mio.scif.ByteArrayPlane.<init>\u001b[0;34m()\u001b[0m\n",
      "File \u001b[0;32mAbstractPlane.java:72\u001b[0m, in \u001b[0;36mio.scif.AbstractPlane.<init>\u001b[0;34m()\u001b[0m\n",
      "File \u001b[0;32mAbstractPlane.java:117\u001b[0m, in \u001b[0;36mio.scif.AbstractPlane.populate\u001b[0;34m()\u001b[0m\n",
      "File \u001b[0;32mAbstractPlane.java:128\u001b[0m, in \u001b[0;36mio.scif.AbstractPlane.populate\u001b[0;34m()\u001b[0m\n",
      "File \u001b[0;32mByteArrayPlane.java:46\u001b[0m, in \u001b[0;36mio.scif.ByteArrayPlane.blankPlane\u001b[0;34m()\u001b[0m\n",
      "File \u001b[0;32mByteArrayPlane.java:79\u001b[0m, in \u001b[0;36mio.scif.ByteArrayPlane.blankPlane\u001b[0;34m()\u001b[0m\n",
      "File \u001b[0;32mArrayUtils.java:146\u001b[0m, in \u001b[0;36morg.scijava.util.ArrayUtils.allocate\u001b[0;34m()\u001b[0m\n",
      "\u001b[0;31mException\u001b[0m: Java Exception",
      "\nThe above exception was the direct cause of the following exception:\n",
      "\u001b[0;31mjava.lang.OutOfMemoryError\u001b[0m                Traceback (most recent call last)",
      "Cell \u001b[0;32mIn[151], line 5\u001b[0m\n\u001b[1;32m      2\u001b[0m \u001b[39mif\u001b[39;00m \u001b[39mnot\u001b[39;00m ok:\n\u001b[1;32m      3\u001b[0m     sys\u001b[39m.\u001b[39mexit(\u001b[39mstr\u001b[39m(trackmate\u001b[39m.\u001b[39mgetErrorMessage()))\n\u001b[0;32m----> 5\u001b[0m ok \u001b[39m=\u001b[39m trackmate\u001b[39m.\u001b[39;49mprocess()\n\u001b[1;32m      6\u001b[0m \u001b[39mif\u001b[39;00m \u001b[39mnot\u001b[39;00m ok:\n\u001b[1;32m      7\u001b[0m     sys\u001b[39m.\u001b[39mexit(\u001b[39mstr\u001b[39m(trackmate\u001b[39m.\u001b[39mgetErrorMessage()))\n",
      "\u001b[0;31mjava.lang.OutOfMemoryError\u001b[0m: java.lang.OutOfMemoryError: GC overhead limit exceeded"
     ]
    }
   ],
   "source": [
    "\n",
    "\n",
    "ok = trackmate.process()\n",
    "if not ok:\n",
    "    sys.exit(str(trackmate.getErrorMessage()))"
   ]
  },
  {
   "cell_type": "code",
   "execution_count": 139,
   "metadata": {},
   "outputs": [
    {
     "name": "stdout",
     "output_type": "stream",
     "text": [
      "Found 9 tracks.\n"
     ]
    },
    {
     "name": "stderr",
     "output_type": "stream",
     "text": [
      "[java.lang.Enum.toString] Found 9 tracks.[java.lang.Enum.toString] \n"
     ]
    }
   ],
   "source": [
    "model.getLogger().log('Found ' + str(model.getTrackModel().nTracks(True)) + ' tracks.')\n"
   ]
  },
  {
   "cell_type": "code",
   "execution_count": 143,
   "metadata": {},
   "outputs": [],
   "source": [
    "# A selection.\n",
    "sm = SelectionModel( model )\n",
    "\n",
    "# Read the default display settings.\n",
    "ds = DisplaySettingsIO.readUserDefault()\n",
    "\n",
    "# The viewer.\n",
    "displayer =  HyperStackDisplayer( model, sm, imp, ds ) \n",
    "#displayer.render()\n",
    "\n",
    "# The feature model, that stores edge and track features.\n",
    "fm = model.getFeatureModel()"
   ]
  },
  {
   "cell_type": "code",
   "execution_count": 144,
   "metadata": {},
   "outputs": [
    {
     "name": "stdout",
     "output_type": "stream",
     "text": [
      "\n"
     ]
    },
    {
     "name": "stderr",
     "output_type": "stream",
     "text": [
      "[java.lang.Enum.toString] \n"
     ]
    },
    {
     "ename": "TypeError",
     "evalue": "can only concatenate str (not \"java.lang.String\") to str",
     "output_type": "error",
     "traceback": [
      "\u001b[0;31m---------------------------------------------------------------------------\u001b[0m",
      "\u001b[0;31mTypeError\u001b[0m                                 Traceback (most recent call last)",
      "Cell \u001b[0;32mIn[144], line 7\u001b[0m\n\u001b[1;32m      5\u001b[0m     v \u001b[39m=\u001b[39m fm\u001b[39m.\u001b[39mgetTrackFeature(\u001b[39mid\u001b[39m, \u001b[39m'\u001b[39m\u001b[39mTRACK_MEAN_SPEED\u001b[39m\u001b[39m'\u001b[39m)\n\u001b[1;32m      6\u001b[0m     model\u001b[39m.\u001b[39mgetLogger()\u001b[39m.\u001b[39mlog(\u001b[39m'\u001b[39m\u001b[39m'\u001b[39m)\n\u001b[0;32m----> 7\u001b[0m     model\u001b[39m.\u001b[39mgetLogger()\u001b[39m.\u001b[39mlog(\u001b[39m'\u001b[39;49m\u001b[39mTrack \u001b[39;49m\u001b[39m'\u001b[39;49m \u001b[39m+\u001b[39;49m \u001b[39mstr\u001b[39;49m(\u001b[39mid\u001b[39;49m) \u001b[39m+\u001b[39;49m \u001b[39m'\u001b[39;49m\u001b[39m: mean velocity = \u001b[39;49m\u001b[39m'\u001b[39;49m \u001b[39m+\u001b[39;49m \u001b[39mstr\u001b[39;49m(v) \u001b[39m+\u001b[39;49m \u001b[39m'\u001b[39;49m\u001b[39m \u001b[39;49m\u001b[39m'\u001b[39;49m \u001b[39m+\u001b[39;49m model\u001b[39m.\u001b[39;49mgetSpaceUnits() \u001b[39m+\u001b[39m \u001b[39m'\u001b[39m\u001b[39m/\u001b[39m\u001b[39m'\u001b[39m \u001b[39m+\u001b[39m model\u001b[39m.\u001b[39mgetTimeUnits())\n\u001b[1;32m      9\u001b[0m \t\u001b[39m# Get all the spots of the current track.\u001b[39;00m\n\u001b[1;32m     10\u001b[0m     track \u001b[39m=\u001b[39m model\u001b[39m.\u001b[39mgetTrackModel()\u001b[39m.\u001b[39mtrackSpots(\u001b[39mid\u001b[39m)\n",
      "\u001b[0;31mTypeError\u001b[0m: can only concatenate str (not \"java.lang.String\") to str"
     ]
    }
   ],
   "source": [
    "# Iterate over all the tracks that are visible.\n",
    "for id in model.getTrackModel().trackIDs(True):\n",
    "\n",
    "    # Fetch the track feature from the feature model.\n",
    "    v = fm.getTrackFeature(id, 'TRACK_MEAN_SPEED')\n",
    "    model.getLogger().log('')\n",
    "    model.getLogger().log('Track ' + str(id) + ': mean velocity = ' + str(v) + ' ' + model.getSpaceUnits() + '/' + model.getTimeUnits())\n",
    "\n",
    "\t# Get all the spots of the current track.\n",
    "    track = model.getTrackModel().trackSpots(id)\n",
    "    for spot in track:\n",
    "        sid = spot.ID()\n",
    "        # Fetch spot features directly from spot.\n",
    "        # Note that for spots the feature values are not stored in the FeatureModel\n",
    "        # object, but in the Spot object directly. This is an exception; for tracks\n",
    "        # and edges, you have to query the feature model.\n",
    "        x=spot.getFeature('POSITION_X')\n",
    "        y=spot.getFeature('POSITION_Y')\n",
    "        t=spot.getFeature('FRAME')\n",
    "        q=spot.getFeature('QUALITY')\n",
    "        snr=spot.getFeature('SNR_CH1')\n",
    "        mean=spot.getFeature('MEAN_INTENSITY_CH1')\n",
    "        model.getLogger().log('\\tspot ID = ' + str(sid) + ': x='+str(x)+', y='+str(y)+', t='+str(t)+', q='+str(q) + ', snr='+str(snr) + ', mean = ' + str(mean))"
   ]
  },
  {
   "cell_type": "code",
   "execution_count": 145,
   "metadata": {},
   "outputs": [
    {
     "data": {
      "text/plain": [
       "<java object 'fiji.plugin.trackmate.FeatureModel'>"
      ]
     },
     "execution_count": 145,
     "metadata": {},
     "output_type": "execute_result"
    }
   ],
   "source": [
    "fm"
   ]
  },
  {
   "cell_type": "code",
   "execution_count": null,
   "metadata": {},
   "outputs": [],
   "source": []
  }
 ],
 "metadata": {
  "kernelspec": {
   "display_name": "i2k-2022-pyimagej",
   "language": "python",
   "name": "python3"
  },
  "language_info": {
   "codemirror_mode": {
    "name": "ipython",
    "version": 3
   },
   "file_extension": ".py",
   "mimetype": "text/x-python",
   "name": "python",
   "nbconvert_exporter": "python",
   "pygments_lexer": "ipython3",
   "version": "3.8.13"
  },
  "orig_nbformat": 4,
  "vscode": {
   "interpreter": {
    "hash": "5fea8767a81a54c247a941d1f983a68942d851cb588b62d0b0b9cc1ea91b803f"
   }
  }
 },
 "nbformat": 4,
 "nbformat_minor": 2
}
